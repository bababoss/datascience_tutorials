{
 "cells": [
  {
   "cell_type": "markdown",
   "id": "ad58d45c-7b88-4141-bb98-41e2f0b8ee70",
   "metadata": {},
   "source": [
    "# Numpy"
   ]
  },
  {
   "cell_type": "markdown",
   "id": "c0b35b04-4e90-461e-be4f-c9780d7d5564",
   "metadata": {},
   "source": [
    ">  The NumPy library is the core library for scientific computing in\n",
    "Python. It provides a high-performance multidimensional array\n",
    "object, and tools for working with these arrays"
   ]
  },
  {
   "cell_type": "markdown",
   "id": "aa9893f6-4968-4e84-871e-09474b8b60ab",
   "metadata": {},
   "source": [
    "#  Installing numpy"
   ]
  },
  {
   "cell_type": "code",
   "execution_count": 3,
   "id": "7f146908-14b9-40a5-9162-69f6ccccd5e7",
   "metadata": {},
   "outputs": [
    {
     "name": "stdout",
     "output_type": "stream",
     "text": [
      "Collecting numpy\n",
      "  Downloading numpy-1.21.3-cp38-cp38-manylinux_2_12_x86_64.manylinux2010_x86_64.whl (15.7 MB)\n",
      "\u001b[K     |████████████████████████████████| 15.7 MB 2.1 MB/s eta 0:00:01    |█▋                              | 808 kB 2.1 MB/s eta 0:00:08     |█████████████████████████████▌  | 14.5 MB 2.1 MB/s eta 0:00:01\n",
      "\u001b[?25hInstalling collected packages: numpy\n",
      "Successfully installed numpy-1.21.3\n"
     ]
    }
   ],
   "source": [
    "!pip install numpy"
   ]
  },
  {
   "cell_type": "code",
   "execution_count": 30,
   "id": "53ef1cc9-9f90-4ffe-8217-5c3fc3879c82",
   "metadata": {
    "slideshow": {
     "slide_type": "slide"
    },
    "tags": []
   },
   "outputs": [],
   "source": [
    "import numpy as np"
   ]
  },
  {
   "cell_type": "markdown",
   "id": "8269a886-7faf-4261-81d5-e76e170e0d5d",
   "metadata": {
    "tags": []
   },
   "source": [
    "# Creating Arrays"
   ]
  },
  {
   "cell_type": "code",
   "execution_count": 60,
   "id": "2f14bbd8-f28a-49a1-928e-cf64dc314d67",
   "metadata": {
    "tags": []
   },
   "outputs": [
    {
     "data": {
      "text/plain": [
       "(3,)"
      ]
     },
     "execution_count": 60,
     "metadata": {},
     "output_type": "execute_result"
    }
   ],
   "source": [
    "arr1=np.array([2,3,4])\n",
    "arr1.shape"
   ]
  },
  {
   "cell_type": "code",
   "execution_count": 59,
   "id": "ba682a80-64d9-4f29-a574-57e37387febd",
   "metadata": {
    "jupyter": {
     "source_hidden": true
    },
    "tags": []
   },
   "outputs": [
    {
     "data": {
      "text/plain": [
       "(3, 3)"
      ]
     },
     "execution_count": 59,
     "metadata": {},
     "output_type": "execute_result"
    }
   ],
   "source": [
    "arr2=np.array([(1,2,3),(4,5,6),(7,8,9)])\n",
    "arr2.shape"
   ]
  },
  {
   "cell_type": "code",
   "execution_count": 61,
   "id": "134f12ea-fa51-40d8-bd17-496cf6b173c5",
   "metadata": {
    "tags": []
   },
   "outputs": [
    {
     "data": {
      "text/plain": [
       "(2, 3, 3)"
      ]
     },
     "execution_count": 61,
     "metadata": {},
     "output_type": "execute_result"
    }
   ],
   "source": [
    "arr3=np.array([[(1,2,3),(4,5,6),(7,8,9)],[(1,2,3),(4,5,6),(7,8,9)]])\n",
    "arr3.shape"
   ]
  },
  {
   "cell_type": "markdown",
   "id": "715b8a38-4d43-47c7-b097-66f9a34f5df4",
   "metadata": {},
   "source": [
    "# Initial Placeholders"
   ]
  },
  {
   "cell_type": "code",
   "execution_count": 64,
   "id": "dc68dfeb-cfcf-4c89-9a92-bf3a4e365115",
   "metadata": {},
   "outputs": [
    {
     "data": {
      "text/plain": [
       "array([[[0., 0., 0., 0.],\n",
       "        [0., 0., 0., 0.],\n",
       "        [0., 0., 0., 0.]],\n",
       "\n",
       "       [[0., 0., 0., 0.],\n",
       "        [0., 0., 0., 0.],\n",
       "        [0., 0., 0., 0.]]])"
      ]
     },
     "execution_count": 64,
     "metadata": {},
     "output_type": "execute_result"
    }
   ],
   "source": [
    "a=np.zeros((2,3,4))\n",
    "a"
   ]
  },
  {
   "cell_type": "code",
   "execution_count": 68,
   "id": "bfffa42a-5f0c-4d34-8854-7c79bc3afeb8",
   "metadata": {},
   "outputs": [
    {
     "data": {
      "text/plain": [
       "array([[[1, 1, 1, 1, 1],\n",
       "        [1, 1, 1, 1, 1],\n",
       "        [1, 1, 1, 1, 1]],\n",
       "\n",
       "       [[1, 1, 1, 1, 1],\n",
       "        [1, 1, 1, 1, 1],\n",
       "        [1, 1, 1, 1, 1]]], dtype=int16)"
      ]
     },
     "execution_count": 68,
     "metadata": {},
     "output_type": "execute_result"
    }
   ],
   "source": [
    "b=np.ones((2,3,5),dtype=np.int16)\n",
    "b"
   ]
  },
  {
   "cell_type": "code",
   "execution_count": 72,
   "id": "24695f19-f756-4abc-b26d-271b04fac6d6",
   "metadata": {},
   "outputs": [
    {
     "data": {
      "text/plain": [
       "array([10, 15, 20])"
      ]
     },
     "execution_count": 72,
     "metadata": {},
     "output_type": "execute_result"
    }
   ],
   "source": [
    "c=np.arange(10,25,5)\n",
    "c"
   ]
  },
  {
   "cell_type": "code",
   "execution_count": 78,
   "id": "41f610ae-cba6-4161-b3df-f434367f0590",
   "metadata": {},
   "outputs": [
    {
     "data": {
      "text/plain": [
       "array([  1.,  12.,  23.,  34.,  45.,  56.,  67.,  78.,  89., 100.])"
      ]
     },
     "execution_count": 78,
     "metadata": {},
     "output_type": "execute_result"
    }
   ],
   "source": [
    "d=np.linspace(1,100,10)\n",
    "d"
   ]
  },
  {
   "cell_type": "code",
   "execution_count": 81,
   "id": "0b0b5e00-a01c-4a05-a8c3-48ef65923fe6",
   "metadata": {},
   "outputs": [
    {
     "data": {
      "text/plain": [
       "array([[7, 7, 7],\n",
       "       [7, 7, 7]])"
      ]
     },
     "execution_count": 81,
     "metadata": {},
     "output_type": "execute_result"
    }
   ],
   "source": [
    "e=np.full((2,3),7)\n",
    "e"
   ]
  },
  {
   "cell_type": "code",
   "execution_count": 83,
   "id": "00b3bdbb-2b20-42b3-9d43-58da0894d9d2",
   "metadata": {},
   "outputs": [
    {
     "data": {
      "text/plain": [
       "array([[1., 0.],\n",
       "       [0., 1.]])"
      ]
     },
     "execution_count": 83,
     "metadata": {},
     "output_type": "execute_result"
    }
   ],
   "source": [
    "f=np.eye(2) # 2x2 identy metrix\n",
    "f"
   ]
  },
  {
   "cell_type": "code",
   "execution_count": 88,
   "id": "36ad2975-f182-4449-978c-5c17f69d2aae",
   "metadata": {},
   "outputs": [
    {
     "data": {
      "text/plain": [
       "array([0.00901297, 0.10026887, 0.81167544, 0.51281356, 0.77858003,\n",
       "       0.72412537, 0.8390938 , 0.76295676, 0.73737176, 0.01830857])"
      ]
     },
     "execution_count": 88,
     "metadata": {},
     "output_type": "execute_result"
    }
   ],
   "source": [
    "g=np.random.random(10) # Create a array with random values\n",
    "g"
   ]
  },
  {
   "cell_type": "code",
   "execution_count": 91,
   "id": "0861c28e-f714-47ac-88db-fea67d1a3583",
   "metadata": {},
   "outputs": [
    {
     "data": {
      "text/plain": [
       "array([[1.31197907e-316, 0.00000000e+000],\n",
       "       [0.00000000e+000, 0.00000000e+000],\n",
       "       [0.00000000e+000, 0.00000000e+000]])"
      ]
     },
     "execution_count": 91,
     "metadata": {},
     "output_type": "execute_result"
    }
   ],
   "source": [
    "h=np.empty((3,2))\n",
    "h"
   ]
  },
  {
   "cell_type": "markdown",
   "id": "6bb730e7-d56e-4f57-a226-bb59203d5fbd",
   "metadata": {},
   "source": [
    "# I/O"
   ]
  },
  {
   "cell_type": "markdown",
   "id": "43d10ef9-3740-47ba-9b5c-f33c84845191",
   "metadata": {},
   "source": [
    "## Saving & Loading On Disk"
   ]
  },
  {
   "cell_type": "code",
   "execution_count": 92,
   "id": "51aea98c-db8d-42ca-9ca0-c52dcee947a2",
   "metadata": {},
   "outputs": [],
   "source": [
    "np.save(\"my_array\",b)"
   ]
  },
  {
   "cell_type": "code",
   "execution_count": 93,
   "id": "c300b913-7a32-426c-8565-439b0a16c826",
   "metadata": {},
   "outputs": [],
   "source": [
    "np.savez(\"my_arrayz\",b,c)"
   ]
  },
  {
   "cell_type": "code",
   "execution_count": null,
   "id": "909ac777-2b22-4811-8ad0-3fdd0cbd50e2",
   "metadata": {},
   "outputs": [],
   "source": [
    "b=np.load(\"my_array.npy\")\n",
    "b"
   ]
  },
  {
   "cell_type": "markdown",
   "id": "5a043636-407f-44ae-a978-ed1e969a1cd2",
   "metadata": {},
   "source": [
    "## Saving & Loading Text Files"
   ]
  },
  {
   "cell_type": "code",
   "execution_count": 108,
   "id": "2b35c1a9-d7b1-4f7d-915e-ccb222b8224b",
   "metadata": {},
   "outputs": [
    {
     "data": {
      "text/plain": [
       "array([0.00901297, 0.10026887, 0.81167544, 0.51281356, 0.77858003,\n",
       "       0.72412537, 0.8390938 , 0.76295676, 0.73737176, 0.01830857])"
      ]
     },
     "execution_count": 108,
     "metadata": {},
     "output_type": "execute_result"
    }
   ],
   "source": [
    "np.loadtxt(\"myfile.txt\")"
   ]
  },
  {
   "cell_type": "code",
   "execution_count": 110,
   "id": "1bdb87ab-00db-45b7-ae12-c3a705af3e43",
   "metadata": {},
   "outputs": [],
   "source": [
    "# np.getfromtxt(\"myfile.csv\",delimiter=\",\")\n"
   ]
  },
  {
   "cell_type": "code",
   "execution_count": 111,
   "id": "9671b7c9-6ad6-477b-baa1-e165d4c97793",
   "metadata": {},
   "outputs": [],
   "source": [
    "np.savetxt(\"myfile.txt\",g,delimiter=\" \")"
   ]
  },
  {
   "cell_type": "markdown",
   "id": "b794ad70-9561-49cb-9fd4-ef200b9d0ed4",
   "metadata": {},
   "source": [
    "# Data Types"
   ]
  },
  {
   "cell_type": "code",
   "execution_count": 122,
   "id": "d5586413-c36b-4e73-a96b-c0bcb2f5cb6f",
   "metadata": {},
   "outputs": [],
   "source": [
    "# np.int64\n",
    "# np.float32\n",
    "# np.complex\n",
    "# np.bool\n",
    "# np.object\n",
    "# np.string_"
   ]
  },
  {
   "cell_type": "markdown",
   "id": "6f2cbc14-6a0c-43ef-a610-aa15fef8a416",
   "metadata": {},
   "source": [
    "# Inspecting Your Array"
   ]
  },
  {
   "cell_type": "code",
   "execution_count": 129,
   "id": "b69ba8d7-59ec-4da9-bc06-b0c48e19439d",
   "metadata": {},
   "outputs": [
    {
     "data": {
      "text/plain": [
       "array([[[1, 2, 3],\n",
       "        [4, 5, 6],\n",
       "        [7, 8, 9]],\n",
       "\n",
       "       [[1, 2, 3],\n",
       "        [4, 5, 6],\n",
       "        [7, 8, 9]]])"
      ]
     },
     "execution_count": 129,
     "metadata": {},
     "output_type": "execute_result"
    }
   ],
   "source": [
    "arr3=np.array([[(1,2,3),(4,5,6),(7,8,9)],[(1,2,3),(4,5,6),(7,8,9)]])\n",
    "arr3\n"
   ]
  },
  {
   "cell_type": "code",
   "execution_count": 130,
   "id": "4b5480a3-3d9b-4809-a8eb-11ff8dd045b1",
   "metadata": {},
   "outputs": [
    {
     "data": {
      "text/plain": [
       "(2, 3, 3)"
      ]
     },
     "execution_count": 130,
     "metadata": {},
     "output_type": "execute_result"
    }
   ],
   "source": [
    "arr3.shape"
   ]
  },
  {
   "cell_type": "code",
   "execution_count": 127,
   "id": "a2e7d744-ac50-49b4-97e3-d9e1f12f874c",
   "metadata": {},
   "outputs": [
    {
     "data": {
      "text/plain": [
       "3"
      ]
     },
     "execution_count": 127,
     "metadata": {},
     "output_type": "execute_result"
    }
   ],
   "source": [
    "arr3.ndim"
   ]
  },
  {
   "cell_type": "code",
   "execution_count": 131,
   "id": "7cee670c-3755-4d5f-8a42-835e27bfa142",
   "metadata": {},
   "outputs": [
    {
     "data": {
      "text/plain": [
       "2"
      ]
     },
     "execution_count": 131,
     "metadata": {},
     "output_type": "execute_result"
    }
   ],
   "source": [
    "len(arr3)"
   ]
  },
  {
   "cell_type": "code",
   "execution_count": 132,
   "id": "e8b9121d-87a2-409b-b081-613aebd7ed7d",
   "metadata": {},
   "outputs": [
    {
     "data": {
      "text/plain": [
       "18"
      ]
     },
     "execution_count": 132,
     "metadata": {},
     "output_type": "execute_result"
    }
   ],
   "source": [
    "arr3.size #Number of array elements"
   ]
  },
  {
   "cell_type": "code",
   "execution_count": 133,
   "id": "0274f719-68a7-4786-8715-99b8df31f64b",
   "metadata": {},
   "outputs": [
    {
     "data": {
      "text/plain": [
       "dtype('int64')"
      ]
     },
     "execution_count": 133,
     "metadata": {},
     "output_type": "execute_result"
    }
   ],
   "source": [
    "arr3.dtype"
   ]
  },
  {
   "cell_type": "code",
   "execution_count": 134,
   "id": "2601fd86-1097-4fe1-89e1-8605b4d95495",
   "metadata": {},
   "outputs": [
    {
     "data": {
      "text/plain": [
       "'int64'"
      ]
     },
     "execution_count": 134,
     "metadata": {},
     "output_type": "execute_result"
    }
   ],
   "source": [
    "arr3.dtype.name"
   ]
  },
  {
   "cell_type": "code",
   "execution_count": 137,
   "id": "69de994d-ecac-44ab-b913-8668f6624ce0",
   "metadata": {},
   "outputs": [
    {
     "data": {
      "text/plain": [
       "array([[[1., 2., 3.],\n",
       "        [4., 5., 6.],\n",
       "        [7., 8., 9.]],\n",
       "\n",
       "       [[1., 2., 3.],\n",
       "        [4., 5., 6.],\n",
       "        [7., 8., 9.]]])"
      ]
     },
     "execution_count": 137,
     "metadata": {},
     "output_type": "execute_result"
    }
   ],
   "source": [
    " arr3.astype(float)  # Convert datatype"
   ]
  },
  {
   "cell_type": "markdown",
   "id": "874556b0-0ac9-433e-a02e-676507cea053",
   "metadata": {},
   "source": [
    "# Asking For Help"
   ]
  },
  {
   "cell_type": "code",
   "execution_count": 138,
   "id": "d48f008b-d5db-4e53-a6f8-8aae761f04a0",
   "metadata": {},
   "outputs": [
    {
     "name": "stdout",
     "output_type": "stream",
     "text": [
      "Data-type of the array's elements.\n",
      "\n",
      "Parameters\n",
      "----------\n",
      "None\n",
      "\n",
      "Returns\n",
      "-------\n",
      "d : numpy dtype object\n",
      "\n",
      "See Also\n",
      "--------\n",
      "numpy.dtype\n",
      "\n",
      "Examples\n",
      "--------\n",
      ">>> x\n",
      "array([[0, 1],\n",
      "       [2, 3]])\n",
      ">>> x.dtype\n",
      "dtype('int32')\n",
      ">>> type(x.dtype)\n",
      "<type 'numpy.dtype'>\n"
     ]
    }
   ],
   "source": [
    "np.info(np.ndarray.dtype)"
   ]
  },
  {
   "cell_type": "code",
   "execution_count": null,
   "id": "89f91239-5c32-49f6-bb55-19586725a514",
   "metadata": {},
   "outputs": [],
   "source": []
  },
  {
   "cell_type": "code",
   "execution_count": null,
   "id": "ef9d7f72-802b-4128-9f4e-0cd03691b6bb",
   "metadata": {},
   "outputs": [],
   "source": []
  },
  {
   "cell_type": "markdown",
   "id": "05ec3161-6f00-4cad-9ff5-1c07a4c279c9",
   "metadata": {},
   "source": [
    "# Array Mathematics"
   ]
  },
  {
   "cell_type": "markdown",
   "id": "61115ba5-f641-4ac7-9f9a-05b3998aab6c",
   "metadata": {},
   "source": [
    "## 1. Arithmetic Operations"
   ]
  },
  {
   "cell_type": "code",
   "execution_count": 148,
   "id": "5afb50b7-90d2-470b-9dfb-8fda7dfb2b13",
   "metadata": {},
   "outputs": [
    {
     "data": {
      "text/plain": [
       "array([1., 2., 3.])"
      ]
     },
     "execution_count": 148,
     "metadata": {},
     "output_type": "execute_result"
    }
   ],
   "source": [
    "x=np.array((1,2,3),dtype=float)\n",
    "x"
   ]
  },
  {
   "cell_type": "code",
   "execution_count": 149,
   "id": "4c062c84-ee34-4753-b28c-60c331700404",
   "metadata": {},
   "outputs": [
    {
     "data": {
      "text/plain": [
       "array([[1.5, 2.5, 3.5],\n",
       "       [4. , 5. , 6. ]])"
      ]
     },
     "execution_count": 149,
     "metadata": {},
     "output_type": "execute_result"
    }
   ],
   "source": [
    "y=np.array([(1.5,2.5,3.5),(4,5,6)],dtype=float)\n",
    "y"
   ]
  },
  {
   "cell_type": "code",
   "execution_count": 152,
   "id": "15f58cef-0cb0-4d25-8dd5-5581528e4ef7",
   "metadata": {},
   "outputs": [
    {
     "data": {
      "text/plain": [
       "array([[-0.5, -0.5, -0.5],\n",
       "       [-3. , -3. , -3. ]])"
      ]
     },
     "execution_count": 152,
     "metadata": {},
     "output_type": "execute_result"
    }
   ],
   "source": [
    "z=x-y\n",
    "z"
   ]
  },
  {
   "cell_type": "code",
   "execution_count": 153,
   "id": "c68f9527-e854-4673-a9ad-f4f7a86f32d9",
   "metadata": {},
   "outputs": [
    {
     "data": {
      "text/plain": [
       "array([[-0.5, -0.5, -0.5],\n",
       "       [-3. , -3. , -3. ]])"
      ]
     },
     "execution_count": 153,
     "metadata": {},
     "output_type": "execute_result"
    }
   ],
   "source": [
    "np.subtract(x,y)"
   ]
  },
  {
   "cell_type": "code",
   "execution_count": 154,
   "id": "d2d319ef-16df-4ff4-8368-9484eca28a6b",
   "metadata": {},
   "outputs": [
    {
     "data": {
      "text/plain": [
       "array([[2.5, 4.5, 6.5],\n",
       "       [5. , 7. , 9. ]])"
      ]
     },
     "execution_count": 154,
     "metadata": {},
     "output_type": "execute_result"
    }
   ],
   "source": [
    "x+y"
   ]
  },
  {
   "cell_type": "code",
   "execution_count": 155,
   "id": "95de18e5-bda9-42bf-a2b0-bad2869a8b15",
   "metadata": {},
   "outputs": [
    {
     "data": {
      "text/plain": [
       "array([[2.5, 4.5, 6.5],\n",
       "       [5. , 7. , 9. ]])"
      ]
     },
     "execution_count": 155,
     "metadata": {},
     "output_type": "execute_result"
    }
   ],
   "source": [
    "np.add(x,y)"
   ]
  },
  {
   "cell_type": "code",
   "execution_count": 156,
   "id": "4ad08c25-9d58-49f9-9650-dd05b88b8c2b",
   "metadata": {},
   "outputs": [
    {
     "data": {
      "text/plain": [
       "array([[0.66666667, 0.8       , 0.85714286],\n",
       "       [0.25      , 0.4       , 0.5       ]])"
      ]
     },
     "execution_count": 156,
     "metadata": {},
     "output_type": "execute_result"
    }
   ],
   "source": [
    "x/y"
   ]
  },
  {
   "cell_type": "code",
   "execution_count": 159,
   "id": "557d7280-48e2-425c-8668-77b2c05ab64a",
   "metadata": {},
   "outputs": [
    {
     "data": {
      "text/plain": [
       "array([[0.66666667, 0.8       , 0.85714286],\n",
       "       [0.25      , 0.4       , 0.5       ]])"
      ]
     },
     "execution_count": 159,
     "metadata": {},
     "output_type": "execute_result"
    }
   ],
   "source": [
    "np.divide(x,y)"
   ]
  },
  {
   "cell_type": "code",
   "execution_count": 160,
   "id": "aee42d3e-175d-47cb-afbe-09e6fa4cf4e3",
   "metadata": {},
   "outputs": [
    {
     "data": {
      "text/plain": [
       "array([[ 1.5,  5. , 10.5],\n",
       "       [ 4. , 10. , 18. ]])"
      ]
     },
     "execution_count": 160,
     "metadata": {},
     "output_type": "execute_result"
    }
   ],
   "source": [
    "x*y"
   ]
  },
  {
   "cell_type": "code",
   "execution_count": 161,
   "id": "bd0e3cba-c6a1-4fc3-917e-cf41517de5e1",
   "metadata": {},
   "outputs": [
    {
     "data": {
      "text/plain": [
       "array([[ 1.5,  5. , 10.5],\n",
       "       [ 4. , 10. , 18. ]])"
      ]
     },
     "execution_count": 161,
     "metadata": {},
     "output_type": "execute_result"
    }
   ],
   "source": [
    "np.multiply(x,y)"
   ]
  },
  {
   "cell_type": "code",
   "execution_count": 162,
   "id": "10a94fa7-47d1-4b40-818c-b08903165c5c",
   "metadata": {},
   "outputs": [
    {
     "data": {
      "text/plain": [
       "array([[  4.48168907,  12.18249396,  33.11545196],\n",
       "       [ 54.59815003, 148.4131591 , 403.42879349]])"
      ]
     },
     "execution_count": 162,
     "metadata": {},
     "output_type": "execute_result"
    }
   ],
   "source": [
    "np.exp(y)"
   ]
  },
  {
   "cell_type": "code",
   "execution_count": 165,
   "id": "62dacffa-0756-4e11-acaf-d8ee128d164b",
   "metadata": {},
   "outputs": [
    {
     "data": {
      "text/plain": [
       "array([[1.22474487, 1.58113883, 1.87082869],\n",
       "       [2.        , 2.23606798, 2.44948974]])"
      ]
     },
     "execution_count": 165,
     "metadata": {},
     "output_type": "execute_result"
    }
   ],
   "source": [
    "np.sqrt(y)"
   ]
  },
  {
   "cell_type": "code",
   "execution_count": 166,
   "id": "d3ecb084-7224-490a-9211-6a6f496b5acc",
   "metadata": {},
   "outputs": [
    {
     "data": {
      "text/plain": [
       "array([[ 0.99749499,  0.59847214, -0.35078323],\n",
       "       [-0.7568025 , -0.95892427, -0.2794155 ]])"
      ]
     },
     "execution_count": 166,
     "metadata": {},
     "output_type": "execute_result"
    }
   ],
   "source": [
    "np.sin(y)"
   ]
  },
  {
   "cell_type": "code",
   "execution_count": 167,
   "id": "01562c0a-3f9d-4013-811b-d01a60acf798",
   "metadata": {},
   "outputs": [
    {
     "data": {
      "text/plain": [
       "array([ 0.54030231, -0.41614684, -0.9899925 ])"
      ]
     },
     "execution_count": 167,
     "metadata": {},
     "output_type": "execute_result"
    }
   ],
   "source": [
    "np.cos(x)"
   ]
  },
  {
   "cell_type": "code",
   "execution_count": 168,
   "id": "d60d1719-bb5d-4a90-b96e-0ae777b1362a",
   "metadata": {},
   "outputs": [
    {
     "data": {
      "text/plain": [
       "array([[0.40546511, 0.91629073, 1.25276297],\n",
       "       [1.38629436, 1.60943791, 1.79175947]])"
      ]
     },
     "execution_count": 168,
     "metadata": {},
     "output_type": "execute_result"
    }
   ],
   "source": [
    "np.log(y)"
   ]
  },
  {
   "cell_type": "markdown",
   "id": "006cf2c5-d3c3-49f8-a3a0-f73f65436754",
   "metadata": {},
   "source": []
  },
  {
   "cell_type": "markdown",
   "id": "516e2563-060f-41de-9a78-94edf33ad1cb",
   "metadata": {},
   "source": [
    "# Comparison"
   ]
  },
  {
   "cell_type": "code",
   "execution_count": 171,
   "id": "7709c86a-1c66-4fa1-b53e-6c047ed386a3",
   "metadata": {},
   "outputs": [
    {
     "data": {
      "text/plain": [
       "array([[False, False, False],\n",
       "       [False, False, False]])"
      ]
     },
     "execution_count": 171,
     "metadata": {},
     "output_type": "execute_result"
    }
   ],
   "source": [
    "x==y # Element-wise comparison"
   ]
  },
  {
   "cell_type": "code",
   "execution_count": 172,
   "id": "ab56e025-3c9e-48f6-aafc-e2dca1f59439",
   "metadata": {},
   "outputs": [
    {
     "data": {
      "text/plain": [
       "array([[False, False, False],\n",
       "       [False, False, False]])"
      ]
     },
     "execution_count": 172,
     "metadata": {},
     "output_type": "execute_result"
    }
   ],
   "source": [
    "x>y # Element-wise comparison"
   ]
  },
  {
   "cell_type": "code",
   "execution_count": 173,
   "id": "91d0dfc4-3adb-4a11-9878-5e454b5de6c8",
   "metadata": {},
   "outputs": [
    {
     "data": {
      "text/plain": [
       "False"
      ]
     },
     "execution_count": 173,
     "metadata": {},
     "output_type": "execute_result"
    }
   ],
   "source": [
    "np.array_equal(x, y) "
   ]
  },
  {
   "cell_type": "markdown",
   "id": "976ee80e-1a75-4651-9491-465e9d5699b8",
   "metadata": {},
   "source": [
    "# Aggregate Functions"
   ]
  },
  {
   "cell_type": "code",
   "execution_count": 174,
   "id": "4a4ab8c3-037a-451a-a27a-f2a8e5a9ec1e",
   "metadata": {},
   "outputs": [
    {
     "data": {
      "text/plain": [
       "6.0"
      ]
     },
     "execution_count": 174,
     "metadata": {},
     "output_type": "execute_result"
    }
   ],
   "source": [
    "x.sum()"
   ]
  },
  {
   "cell_type": "code",
   "execution_count": 175,
   "id": "97112545-a1b1-450a-8850-4be3a10e0cd1",
   "metadata": {},
   "outputs": [
    {
     "data": {
      "text/plain": [
       "2.0"
      ]
     },
     "execution_count": 175,
     "metadata": {},
     "output_type": "execute_result"
    }
   ],
   "source": [
    "x.mean()"
   ]
  },
  {
   "cell_type": "code",
   "execution_count": 176,
   "id": "16667487-709a-461d-94fd-4149f862ff09",
   "metadata": {},
   "outputs": [
    {
     "data": {
      "text/plain": [
       "3.0"
      ]
     },
     "execution_count": 176,
     "metadata": {},
     "output_type": "execute_result"
    }
   ],
   "source": [
    "x.max()"
   ]
  },
  {
   "cell_type": "code",
   "execution_count": 178,
   "id": "91d9d9d3-737e-4b95-b827-92915d866152",
   "metadata": {},
   "outputs": [
    {
     "data": {
      "text/plain": [
       "array([[ 1.5,  4. ,  7.5],\n",
       "       [ 4. ,  9. , 15. ]])"
      ]
     },
     "execution_count": 178,
     "metadata": {},
     "output_type": "execute_result"
    }
   ],
   "source": [
    "y.cumsum(axis=1)"
   ]
  },
  {
   "cell_type": "code",
   "execution_count": null,
   "id": "39f0aa1d-19d0-4fd8-bede-00a6ba485bbb",
   "metadata": {},
   "outputs": [],
   "source": []
  },
  {
   "cell_type": "markdown",
   "id": "a9d530d7-4006-4661-aa31-449b9da74e57",
   "metadata": {},
   "source": [
    "# Copying Arrays"
   ]
  },
  {
   "cell_type": "code",
   "execution_count": 185,
   "id": "a166dbf6-5d2f-4158-99f8-3322d182c40f",
   "metadata": {},
   "outputs": [
    {
     "data": {
      "text/plain": [
       "array([1., 2., 3.])"
      ]
     },
     "execution_count": 185,
     "metadata": {},
     "output_type": "execute_result"
    }
   ],
   "source": [
    "h=x.view() #Create a view of the array with the same data\n",
    "h"
   ]
  },
  {
   "cell_type": "code",
   "execution_count": 187,
   "id": "a77cdec4-9832-4149-aa5b-fb1731aa8c5a",
   "metadata": {},
   "outputs": [
    {
     "data": {
      "text/plain": [
       "array([1., 2., 3.])"
      ]
     },
     "execution_count": 187,
     "metadata": {},
     "output_type": "execute_result"
    }
   ],
   "source": [
    "np.copy(x) #Create a copy of the array"
   ]
  },
  {
   "cell_type": "code",
   "execution_count": 189,
   "id": "43f35045-9402-4ca0-8863-26922fd83bf1",
   "metadata": {},
   "outputs": [
    {
     "data": {
      "text/plain": [
       "array([1., 2., 3.])"
      ]
     },
     "execution_count": 189,
     "metadata": {},
     "output_type": "execute_result"
    }
   ],
   "source": [
    "h=x.copy() # Create a  deep copy of the array\n",
    "h"
   ]
  },
  {
   "cell_type": "markdown",
   "id": "ec0f9b8c-d6db-413f-ad89-f129b031fae4",
   "metadata": {},
   "source": [
    "# Sorting Arrays"
   ]
  },
  {
   "cell_type": "code",
   "execution_count": 194,
   "id": "77b0b495-7409-4ead-b03d-7aff0e08ae57",
   "metadata": {},
   "outputs": [
    {
     "data": {
      "text/plain": [
       "array([[1.5, 2.5, 3.5],\n",
       "       [4. , 5. , 6. ]])"
      ]
     },
     "execution_count": 194,
     "metadata": {},
     "output_type": "execute_result"
    }
   ],
   "source": [
    "y.sort()\n",
    "y"
   ]
  },
  {
   "cell_type": "code",
   "execution_count": 193,
   "id": "94c8bbf1-22be-4ca8-a39e-3a6ff61e5d63",
   "metadata": {},
   "outputs": [
    {
     "ename": "AxisError",
     "evalue": "axis 1 is out of bounds for array of dimension 1",
     "output_type": "error",
     "traceback": [
      "\u001b[0;31m---------------------------------------------------------------------------\u001b[0m",
      "\u001b[0;31mAxisError\u001b[0m                                 Traceback (most recent call last)",
      "\u001b[0;32m/tmp/ipykernel_141776/574439157.py\u001b[0m in \u001b[0;36m<module>\u001b[0;34m\u001b[0m\n\u001b[0;32m----> 1\u001b[0;31m \u001b[0mx\u001b[0m\u001b[0;34m.\u001b[0m\u001b[0msort\u001b[0m\u001b[0;34m(\u001b[0m\u001b[0maxis\u001b[0m\u001b[0;34m=\u001b[0m\u001b[0;36m1\u001b[0m\u001b[0;34m)\u001b[0m\u001b[0;34m\u001b[0m\u001b[0;34m\u001b[0m\u001b[0m\n\u001b[0m\u001b[1;32m      2\u001b[0m \u001b[0mx\u001b[0m\u001b[0;34m\u001b[0m\u001b[0;34m\u001b[0m\u001b[0m\n",
      "\u001b[0;31mAxisError\u001b[0m: axis 1 is out of bounds for array of dimension 1"
     ]
    }
   ],
   "source": [
    "x.sort(axis=1)\n",
    "x"
   ]
  },
  {
   "cell_type": "markdown",
   "id": "4e063033-87e6-4656-b8d3-1f701afa26b2",
   "metadata": {},
   "source": [
    "# Subsetting, Slicing, Indexing"
   ]
  },
  {
   "cell_type": "markdown",
   "id": "dbc45b56-c4b4-4186-8c33-589864e00679",
   "metadata": {},
   "source": [
    "# Array Manipulation"
   ]
  },
  {
   "cell_type": "markdown",
   "id": "c30a4979-e32e-45d0-9650-d2518f2dc7a0",
   "metadata": {},
   "source": [
    "##  Transposing Array"
   ]
  },
  {
   "cell_type": "markdown",
   "id": "b6e75f49-cc2d-4a5e-b27e-779fc54eacd7",
   "metadata": {},
   "source": [
    "##  Changing Array Shape"
   ]
  },
  {
   "cell_type": "code",
   "execution_count": null,
   "id": "e992d255-d88b-42b9-9a44-ba1e1877f362",
   "metadata": {},
   "outputs": [],
   "source": []
  }
 ],
 "metadata": {
  "kernelspec": {
   "display_name": "Python 3 (ipykernel)",
   "language": "python",
   "name": "python3"
  },
  "language_info": {
   "codemirror_mode": {
    "name": "ipython",
    "version": 3
   },
   "file_extension": ".py",
   "mimetype": "text/x-python",
   "name": "python",
   "nbconvert_exporter": "python",
   "pygments_lexer": "ipython3",
   "version": "3.8.10"
  }
 },
 "nbformat": 4,
 "nbformat_minor": 5
}
