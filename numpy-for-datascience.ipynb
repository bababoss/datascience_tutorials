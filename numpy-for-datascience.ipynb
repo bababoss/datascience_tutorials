{
 "cells": [
  {
   "cell_type": "markdown",
   "id": "ad58d45c-7b88-4141-bb98-41e2f0b8ee70",
   "metadata": {},
   "source": [
    "# Numpy"
   ]
  },
  {
   "cell_type": "markdown",
   "id": "c0b35b04-4e90-461e-be4f-c9780d7d5564",
   "metadata": {},
   "source": [
    ">  The NumPy library is the core library for scientific computing in\n",
    "Python. It provides a high-performance multidimensional array\n",
    "object, and tools for working with these arrays"
   ]
  },
  {
   "cell_type": "markdown",
   "id": "aa9893f6-4968-4e84-871e-09474b8b60ab",
   "metadata": {},
   "source": [
    "#  Installing numpy"
   ]
  },
  {
   "cell_type": "code",
   "execution_count": 3,
   "id": "7f146908-14b9-40a5-9162-69f6ccccd5e7",
   "metadata": {},
   "outputs": [
    {
     "name": "stdout",
     "output_type": "stream",
     "text": [
      "Collecting numpy\n",
      "  Downloading numpy-1.21.3-cp38-cp38-manylinux_2_12_x86_64.manylinux2010_x86_64.whl (15.7 MB)\n",
      "\u001b[K     |████████████████████████████████| 15.7 MB 2.1 MB/s eta 0:00:01    |█▋                              | 808 kB 2.1 MB/s eta 0:00:08     |█████████████████████████████▌  | 14.5 MB 2.1 MB/s eta 0:00:01\n",
      "\u001b[?25hInstalling collected packages: numpy\n",
      "Successfully installed numpy-1.21.3\n"
     ]
    }
   ],
   "source": [
    "!pip install numpy"
   ]
  },
  {
   "cell_type": "code",
   "execution_count": 4,
   "id": "412e947e-fec4-4373-9f0d-29a8d715f78d",
   "metadata": {},
   "outputs": [],
   "source": [
    "import numpy as np"
   ]
  },
  {
   "cell_type": "markdown",
   "id": "8269a886-7faf-4261-81d5-e76e170e0d5d",
   "metadata": {},
   "source": [
    "# Creating Arrays"
   ]
  },
  {
   "cell_type": "markdown",
   "id": "715b8a38-4d43-47c7-b097-66f9a34f5df4",
   "metadata": {},
   "source": [
    "# Initial Placeholders"
   ]
  },
  {
   "cell_type": "markdown",
   "id": "6bb730e7-d56e-4f57-a226-bb59203d5fbd",
   "metadata": {},
   "source": [
    "# I/O"
   ]
  },
  {
   "cell_type": "markdown",
   "id": "43d10ef9-3740-47ba-9b5c-f33c84845191",
   "metadata": {},
   "source": [
    "## Saving & Loading On Disk"
   ]
  },
  {
   "cell_type": "markdown",
   "id": "5a043636-407f-44ae-a978-ed1e969a1cd2",
   "metadata": {},
   "source": [
    "## Saving & Loading Text Files"
   ]
  },
  {
   "cell_type": "markdown",
   "id": "b794ad70-9561-49cb-9fd4-ef200b9d0ed4",
   "metadata": {},
   "source": [
    "# Data Types"
   ]
  },
  {
   "cell_type": "markdown",
   "id": "6f2cbc14-6a0c-43ef-a610-aa15fef8a416",
   "metadata": {},
   "source": [
    "# Inspecting Your Array"
   ]
  },
  {
   "cell_type": "markdown",
   "id": "874556b0-0ac9-433e-a02e-676507cea053",
   "metadata": {},
   "source": [
    "# Asking For Help"
   ]
  },
  {
   "cell_type": "markdown",
   "id": "05ec3161-6f00-4cad-9ff5-1c07a4c279c9",
   "metadata": {},
   "source": [
    "# Array Mathematics"
   ]
  },
  {
   "cell_type": "markdown",
   "id": "006cf2c5-d3c3-49f8-a3a0-f73f65436754",
   "metadata": {},
   "source": [
    "## Arithmetic Operations"
   ]
  },
  {
   "cell_type": "markdown",
   "id": "516e2563-060f-41de-9a78-94edf33ad1cb",
   "metadata": {},
   "source": [
    "# Comparison"
   ]
  },
  {
   "cell_type": "markdown",
   "id": "976ee80e-1a75-4651-9491-465e9d5699b8",
   "metadata": {},
   "source": [
    "# Aggregate Functions"
   ]
  },
  {
   "cell_type": "markdown",
   "id": "a9d530d7-4006-4661-aa31-449b9da74e57",
   "metadata": {},
   "source": [
    "# Copying Arrays"
   ]
  },
  {
   "cell_type": "markdown",
   "id": "ec0f9b8c-d6db-413f-ad89-f129b031fae4",
   "metadata": {},
   "source": [
    "# Sorting Arrays"
   ]
  },
  {
   "cell_type": "markdown",
   "id": "4e063033-87e6-4656-b8d3-1f701afa26b2",
   "metadata": {},
   "source": [
    "# Subsetting, Slicing, Indexing"
   ]
  },
  {
   "cell_type": "markdown",
   "id": "dbc45b56-c4b4-4186-8c33-589864e00679",
   "metadata": {},
   "source": [
    "# Array Manipulation"
   ]
  },
  {
   "cell_type": "markdown",
   "id": "c30a4979-e32e-45d0-9650-d2518f2dc7a0",
   "metadata": {},
   "source": [
    "##  Transposing Array"
   ]
  },
  {
   "cell_type": "markdown",
   "id": "b6e75f49-cc2d-4a5e-b27e-779fc54eacd7",
   "metadata": {},
   "source": [
    "##  Changing Array Shape"
   ]
  },
  {
   "cell_type": "code",
   "execution_count": null,
   "id": "e992d255-d88b-42b9-9a44-ba1e1877f362",
   "metadata": {},
   "outputs": [],
   "source": []
  }
 ],
 "metadata": {
  "kernelspec": {
   "display_name": "Python 3 (ipykernel)",
   "language": "python",
   "name": "python3"
  },
  "language_info": {
   "codemirror_mode": {
    "name": "ipython",
    "version": 3
   },
   "file_extension": ".py",
   "mimetype": "text/x-python",
   "name": "python",
   "nbconvert_exporter": "python",
   "pygments_lexer": "ipython3",
   "version": "3.8.10"
  }
 },
 "nbformat": 4,
 "nbformat_minor": 5
}
