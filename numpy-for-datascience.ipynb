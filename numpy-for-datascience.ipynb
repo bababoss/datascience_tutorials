{
 "cells": [
  {
   "cell_type": "markdown",
   "id": "ad58d45c-7b88-4141-bb98-41e2f0b8ee70",
   "metadata": {},
   "source": [
    "# Numpy"
   ]
  },
  {
   "cell_type": "markdown",
   "id": "c0b35b04-4e90-461e-be4f-c9780d7d5564",
   "metadata": {},
   "source": [
    ">  The NumPy library is the core library for scientific computing in\n",
    "Python. It provides a high-performance multidimensional array\n",
    "object, and tools for working with these arrays"
   ]
  },
  {
   "cell_type": "markdown",
   "id": "aa9893f6-4968-4e84-871e-09474b8b60ab",
   "metadata": {},
   "source": [
    "#  Installing numpy"
   ]
  },
  {
   "cell_type": "code",
   "execution_count": 3,
   "id": "7f146908-14b9-40a5-9162-69f6ccccd5e7",
   "metadata": {},
   "outputs": [
    {
     "name": "stdout",
     "output_type": "stream",
     "text": [
      "Collecting numpy\n",
      "  Downloading numpy-1.21.3-cp38-cp38-manylinux_2_12_x86_64.manylinux2010_x86_64.whl (15.7 MB)\n",
      "\u001b[K     |████████████████████████████████| 15.7 MB 2.1 MB/s eta 0:00:01    |█▋                              | 808 kB 2.1 MB/s eta 0:00:08     |█████████████████████████████▌  | 14.5 MB 2.1 MB/s eta 0:00:01\n",
      "\u001b[?25hInstalling collected packages: numpy\n",
      "Successfully installed numpy-1.21.3\n"
     ]
    }
   ],
   "source": [
    "!pip install numpy"
   ]
  },
  {
   "cell_type": "code",
   "execution_count": 30,
   "id": "53ef1cc9-9f90-4ffe-8217-5c3fc3879c82",
   "metadata": {
    "jupyter": {
     "source_hidden": true
    },
    "slideshow": {
     "slide_type": "slide"
    },
    "tags": []
   },
   "outputs": [],
   "source": [
    "import numpy as np"
   ]
  },
  {
   "cell_type": "markdown",
   "id": "8269a886-7faf-4261-81d5-e76e170e0d5d",
   "metadata": {
    "tags": []
   },
   "source": [
    "# Creating Arrays"
   ]
  },
  {
   "cell_type": "code",
   "execution_count": 60,
   "id": "2f14bbd8-f28a-49a1-928e-cf64dc314d67",
   "metadata": {
    "jupyter": {
     "source_hidden": true
    },
    "tags": []
   },
   "outputs": [
    {
     "data": {
      "text/plain": [
       "(3,)"
      ]
     },
     "execution_count": 60,
     "metadata": {},
     "output_type": "execute_result"
    }
   ],
   "source": [
    "arr1=np.array([2,3,4])\n",
    "arr1.shape"
   ]
  },
  {
   "cell_type": "code",
   "execution_count": 59,
   "id": "ba682a80-64d9-4f29-a574-57e37387febd",
   "metadata": {
    "jupyter": {
     "source_hidden": true
    },
    "tags": []
   },
   "outputs": [
    {
     "data": {
      "text/plain": [
       "(3, 3)"
      ]
     },
     "execution_count": 59,
     "metadata": {},
     "output_type": "execute_result"
    }
   ],
   "source": [
    "arr2=np.array([(1,2,3),(4,5,6),(7,8,9)])\n",
    "arr2.shape"
   ]
  },
  {
   "cell_type": "code",
   "execution_count": 61,
   "id": "134f12ea-fa51-40d8-bd17-496cf6b173c5",
   "metadata": {
    "jupyter": {
     "source_hidden": true
    },
    "tags": []
   },
   "outputs": [
    {
     "data": {
      "text/plain": [
       "(2, 3, 3)"
      ]
     },
     "execution_count": 61,
     "metadata": {},
     "output_type": "execute_result"
    }
   ],
   "source": [
    "arr3=np.array([[(1,2,3),(4,5,6),(7,8,9)],[(1,2,3),(4,5,6),(7,8,9)]])\n",
    "arr3.shape"
   ]
  },
  {
   "cell_type": "markdown",
   "id": "715b8a38-4d43-47c7-b097-66f9a34f5df4",
   "metadata": {},
   "source": [
    "# Initial Placeholders"
   ]
  },
  {
   "cell_type": "code",
   "execution_count": 64,
   "id": "dc68dfeb-cfcf-4c89-9a92-bf3a4e365115",
   "metadata": {},
   "outputs": [
    {
     "data": {
      "text/plain": [
       "array([[[0., 0., 0., 0.],\n",
       "        [0., 0., 0., 0.],\n",
       "        [0., 0., 0., 0.]],\n",
       "\n",
       "       [[0., 0., 0., 0.],\n",
       "        [0., 0., 0., 0.],\n",
       "        [0., 0., 0., 0.]]])"
      ]
     },
     "execution_count": 64,
     "metadata": {},
     "output_type": "execute_result"
    }
   ],
   "source": [
    "a=np.zeros((2,3,4))\n",
    "a"
   ]
  },
  {
   "cell_type": "code",
   "execution_count": 68,
   "id": "bfffa42a-5f0c-4d34-8854-7c79bc3afeb8",
   "metadata": {},
   "outputs": [
    {
     "data": {
      "text/plain": [
       "array([[[1, 1, 1, 1, 1],\n",
       "        [1, 1, 1, 1, 1],\n",
       "        [1, 1, 1, 1, 1]],\n",
       "\n",
       "       [[1, 1, 1, 1, 1],\n",
       "        [1, 1, 1, 1, 1],\n",
       "        [1, 1, 1, 1, 1]]], dtype=int16)"
      ]
     },
     "execution_count": 68,
     "metadata": {},
     "output_type": "execute_result"
    }
   ],
   "source": [
    "b=np.ones((2,3,5),dtype=np.int16)\n",
    "b"
   ]
  },
  {
   "cell_type": "code",
   "execution_count": 72,
   "id": "24695f19-f756-4abc-b26d-271b04fac6d6",
   "metadata": {},
   "outputs": [
    {
     "data": {
      "text/plain": [
       "array([10, 15, 20])"
      ]
     },
     "execution_count": 72,
     "metadata": {},
     "output_type": "execute_result"
    }
   ],
   "source": [
    "c=np.arange(10,25,5)\n",
    "c"
   ]
  },
  {
   "cell_type": "code",
   "execution_count": 78,
   "id": "41f610ae-cba6-4161-b3df-f434367f0590",
   "metadata": {},
   "outputs": [
    {
     "data": {
      "text/plain": [
       "array([  1.,  12.,  23.,  34.,  45.,  56.,  67.,  78.,  89., 100.])"
      ]
     },
     "execution_count": 78,
     "metadata": {},
     "output_type": "execute_result"
    }
   ],
   "source": [
    "d=np.linspace(1,100,10)\n",
    "d"
   ]
  },
  {
   "cell_type": "code",
   "execution_count": 81,
   "id": "0b0b5e00-a01c-4a05-a8c3-48ef65923fe6",
   "metadata": {},
   "outputs": [
    {
     "data": {
      "text/plain": [
       "array([[7, 7, 7],\n",
       "       [7, 7, 7]])"
      ]
     },
     "execution_count": 81,
     "metadata": {},
     "output_type": "execute_result"
    }
   ],
   "source": [
    "e=np.full((2,3),7)\n",
    "e"
   ]
  },
  {
   "cell_type": "code",
   "execution_count": 83,
   "id": "00b3bdbb-2b20-42b3-9d43-58da0894d9d2",
   "metadata": {},
   "outputs": [
    {
     "data": {
      "text/plain": [
       "array([[1., 0.],\n",
       "       [0., 1.]])"
      ]
     },
     "execution_count": 83,
     "metadata": {},
     "output_type": "execute_result"
    }
   ],
   "source": [
    "f=np.eye(2) # 2x2 identy metrix\n",
    "f"
   ]
  },
  {
   "cell_type": "code",
   "execution_count": 88,
   "id": "36ad2975-f182-4449-978c-5c17f69d2aae",
   "metadata": {},
   "outputs": [
    {
     "data": {
      "text/plain": [
       "array([0.00901297, 0.10026887, 0.81167544, 0.51281356, 0.77858003,\n",
       "       0.72412537, 0.8390938 , 0.76295676, 0.73737176, 0.01830857])"
      ]
     },
     "execution_count": 88,
     "metadata": {},
     "output_type": "execute_result"
    }
   ],
   "source": [
    "g=np.random.random(10) # Create a array with random values\n",
    "g"
   ]
  },
  {
   "cell_type": "code",
   "execution_count": 91,
   "id": "0861c28e-f714-47ac-88db-fea67d1a3583",
   "metadata": {},
   "outputs": [
    {
     "data": {
      "text/plain": [
       "array([[1.31197907e-316, 0.00000000e+000],\n",
       "       [0.00000000e+000, 0.00000000e+000],\n",
       "       [0.00000000e+000, 0.00000000e+000]])"
      ]
     },
     "execution_count": 91,
     "metadata": {},
     "output_type": "execute_result"
    }
   ],
   "source": [
    "h=np.empty((3,2))\n",
    "h"
   ]
  },
  {
   "cell_type": "markdown",
   "id": "6bb730e7-d56e-4f57-a226-bb59203d5fbd",
   "metadata": {},
   "source": [
    "# I/O"
   ]
  },
  {
   "cell_type": "markdown",
   "id": "43d10ef9-3740-47ba-9b5c-f33c84845191",
   "metadata": {},
   "source": [
    "## Saving & Loading On Disk"
   ]
  },
  {
   "cell_type": "code",
   "execution_count": 92,
   "id": "51aea98c-db8d-42ca-9ca0-c52dcee947a2",
   "metadata": {},
   "outputs": [],
   "source": [
    "np.save(\"my_array\",b)"
   ]
  },
  {
   "cell_type": "code",
   "execution_count": 93,
   "id": "c300b913-7a32-426c-8565-439b0a16c826",
   "metadata": {},
   "outputs": [],
   "source": [
    "np.savez(\"my_arrayz\",b,c)"
   ]
  },
  {
   "cell_type": "code",
   "execution_count": null,
   "id": "909ac777-2b22-4811-8ad0-3fdd0cbd50e2",
   "metadata": {},
   "outputs": [],
   "source": [
    "b=np.load(\"my_array.npy\")\n",
    "b"
   ]
  },
  {
   "cell_type": "markdown",
   "id": "5a043636-407f-44ae-a978-ed1e969a1cd2",
   "metadata": {},
   "source": [
    "## Saving & Loading Text Files"
   ]
  },
  {
   "cell_type": "code",
   "execution_count": 108,
   "id": "2b35c1a9-d7b1-4f7d-915e-ccb222b8224b",
   "metadata": {},
   "outputs": [
    {
     "data": {
      "text/plain": [
       "array([0.00901297, 0.10026887, 0.81167544, 0.51281356, 0.77858003,\n",
       "       0.72412537, 0.8390938 , 0.76295676, 0.73737176, 0.01830857])"
      ]
     },
     "execution_count": 108,
     "metadata": {},
     "output_type": "execute_result"
    }
   ],
   "source": [
    "np.loadtxt(\"myfile.txt\")"
   ]
  },
  {
   "cell_type": "code",
   "execution_count": 110,
   "id": "1bdb87ab-00db-45b7-ae12-c3a705af3e43",
   "metadata": {},
   "outputs": [],
   "source": [
    "# np.getfromtxt(\"myfile.csv\",delimiter=\",\")\n"
   ]
  },
  {
   "cell_type": "code",
   "execution_count": 111,
   "id": "9671b7c9-6ad6-477b-baa1-e165d4c97793",
   "metadata": {},
   "outputs": [],
   "source": [
    "np.savetxt(\"myfile.txt\",g,delimiter=\" \")"
   ]
  },
  {
   "cell_type": "markdown",
   "id": "b794ad70-9561-49cb-9fd4-ef200b9d0ed4",
   "metadata": {},
   "source": [
    "# Data Types"
   ]
  },
  {
   "cell_type": "code",
   "execution_count": 122,
   "id": "d5586413-c36b-4e73-a96b-c0bcb2f5cb6f",
   "metadata": {},
   "outputs": [],
   "source": [
    "# np.int64\n",
    "# np.float32\n",
    "# np.complex\n",
    "# np.bool\n",
    "# np.object\n",
    "# np.string_"
   ]
  },
  {
   "cell_type": "markdown",
   "id": "6f2cbc14-6a0c-43ef-a610-aa15fef8a416",
   "metadata": {},
   "source": [
    "# Inspecting Your Array"
   ]
  },
  {
   "cell_type": "markdown",
   "id": "874556b0-0ac9-433e-a02e-676507cea053",
   "metadata": {},
   "source": [
    "# Asking For Help"
   ]
  },
  {
   "cell_type": "markdown",
   "id": "05ec3161-6f00-4cad-9ff5-1c07a4c279c9",
   "metadata": {},
   "source": [
    "# Array Mathematics"
   ]
  },
  {
   "cell_type": "markdown",
   "id": "006cf2c5-d3c3-49f8-a3a0-f73f65436754",
   "metadata": {},
   "source": [
    "## Arithmetic Operations"
   ]
  },
  {
   "cell_type": "markdown",
   "id": "516e2563-060f-41de-9a78-94edf33ad1cb",
   "metadata": {},
   "source": [
    "# Comparison"
   ]
  },
  {
   "cell_type": "markdown",
   "id": "976ee80e-1a75-4651-9491-465e9d5699b8",
   "metadata": {},
   "source": [
    "# Aggregate Functions"
   ]
  },
  {
   "cell_type": "markdown",
   "id": "a9d530d7-4006-4661-aa31-449b9da74e57",
   "metadata": {},
   "source": [
    "# Copying Arrays"
   ]
  },
  {
   "cell_type": "markdown",
   "id": "ec0f9b8c-d6db-413f-ad89-f129b031fae4",
   "metadata": {},
   "source": [
    "# Sorting Arrays"
   ]
  },
  {
   "cell_type": "markdown",
   "id": "4e063033-87e6-4656-b8d3-1f701afa26b2",
   "metadata": {},
   "source": [
    "# Subsetting, Slicing, Indexing"
   ]
  },
  {
   "cell_type": "markdown",
   "id": "dbc45b56-c4b4-4186-8c33-589864e00679",
   "metadata": {},
   "source": [
    "# Array Manipulation"
   ]
  },
  {
   "cell_type": "markdown",
   "id": "c30a4979-e32e-45d0-9650-d2518f2dc7a0",
   "metadata": {},
   "source": [
    "##  Transposing Array"
   ]
  },
  {
   "cell_type": "markdown",
   "id": "b6e75f49-cc2d-4a5e-b27e-779fc54eacd7",
   "metadata": {},
   "source": [
    "##  Changing Array Shape"
   ]
  },
  {
   "cell_type": "code",
   "execution_count": null,
   "id": "e992d255-d88b-42b9-9a44-ba1e1877f362",
   "metadata": {},
   "outputs": [],
   "source": []
  }
 ],
 "metadata": {
  "kernelspec": {
   "display_name": "Python 3 (ipykernel)",
   "language": "python",
   "name": "python3"
  },
  "language_info": {
   "codemirror_mode": {
    "name": "ipython",
    "version": 3
   },
   "file_extension": ".py",
   "mimetype": "text/x-python",
   "name": "python",
   "nbconvert_exporter": "python",
   "pygments_lexer": "ipython3",
   "version": "3.8.10"
  }
 },
 "nbformat": 4,
 "nbformat_minor": 5
}
